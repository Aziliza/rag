{
 "cells": [
  {
   "cell_type": "markdown",
   "metadata": {},
   "source": [
    "# Task 1\n",
    "在Task 1中，使用OpenAi的api转换为向量，由于本人免费api的使用次数有限，因此使用免费api https://github.com/chatanywhere/GPT_API_free\n",
    "\n",
    "可能因为api过期等问题报错"
   ]
  },
  {
   "cell_type": "code",
   "execution_count": 18,
   "metadata": {},
   "outputs": [],
   "source": [
    "import requests\n",
    "import json\n",
    "from create_embeddings import extract_text_from\n",
    "from langchain.vectorstores import FAISS\n",
    "from langchain.embeddings import OpenAIEmbeddings\n",
    "from langchain.text_splitter import CharacterTextSplitter\n",
    "import os\n",
    "\n",
    "api_base=\"https://api.chatanywhere.tech/v1\"\n",
    "api_key=\"sk-6lDdDxc8f9V7eEuT9egSqhe3VbtLyTBLHnr3LP5faS9vSf0s\"\n",
    "\n",
    "# 如果路径存在，表示已经获取到文档信息，避免重复请求\n",
    "if not os.path.exists(\"faiss_store\"):\n",
    "    page_num = 1\n",
    "    url = \"https://support.strikingly.com/api/v2/help_center/en-us/articles.json\"\n",
    "\n",
    "    payload = {}\n",
    "    headers = {\n",
    "        \"User-Agent\": \"Apifox/1.0.0 (https://apifox.com)\",\n",
    "        \"Accept\": \"*/*\",\n",
    "        \"Host\": \"support.strikingly.com\",\n",
    "        \"Connection\": \"keep-alive\",\n",
    "    }\n",
    "\n",
    "    pages = []\n",
    "    while url:\n",
    "        response = requests.request(\"GET\", url, headers=headers, data=payload)\n",
    "        js = json.loads(response.text)\n",
    "\n",
    "        for article in js[\"articles\"]:\n",
    "            pages.append(\n",
    "                # extract_text_from函数有修改，直接传入html进行解析，而不是url\n",
    "                {\"text\": extract_text_from(article[\"body\"]), \"source\": article[\"url\"]}\n",
    "            )\n",
    "        url = js[\"next_page\"]\n",
    "    text_splitter = CharacterTextSplitter(chunk_size=1500, separator=\"\\n\")\n",
    "    docs, metadatas = [], []\n",
    "    for page in pages:\n",
    "        splits = text_splitter.split_text(page[\"text\"])\n",
    "        docs.extend(splits)\n",
    "        metadatas.extend([{\"source\": page[\"source\"]}] * len(splits))\n",
    "        # print(f\"Split {page['source']} into {len(splits)} chunks\")\n",
    "\n",
    "    embeddings = OpenAIEmbeddings(\n",
    "        openai_api_base=api_base,\n",
    "        openai_api_key=api_key,\n",
    "    )\n",
    "\n",
    "    store = FAISS.from_texts(docs, embeddings, metadatas=metadatas)\n",
    "    # 原代码中的方法不可用，改为直接调用FAISS的save_local方法\n",
    "    # with open(\"faiss_store.pkl\", \"wb\") as f:\n",
    "    #     pickle.dumps(store, f)\n",
    "    store.save_local(\"faiss_store\")\n",
    "# 加载保存的向量数据库\n",
    "store=FAISS.load_local(\"faiss_store\",embeddings=OpenAIEmbeddings(\n",
    "        openai_api_base=api_base,\n",
    "        openai_api_key=api_key\n",
    "    ),allow_dangerous_deserialization=True)"
   ]
  },
  {
   "cell_type": "markdown",
   "metadata": {},
   "source": [
    "测试案例"
   ]
  },
  {
   "cell_type": "code",
   "execution_count": 22,
   "metadata": {},
   "outputs": [
    {
     "name": "stderr",
     "output_type": "stream",
     "text": [
      "C:\\Users\\Azliza\\AppData\\Roaming\\Python\\Python312\\site-packages\\langchain\\chains\\qa_with_sources\\vector_db.py:67: UserWarning: `VectorDBQAWithSourcesChain` is deprecated - please use `from langchain.chains import RetrievalQAWithSourcesChain`\n",
      "  warnings.warn(\n"
     ]
    },
    {
     "name": "stdout",
     "output_type": "stream",
     "text": [
      "\n",
      "\n",
      "\u001b[1m> Entering new VectorDBQAWithSourcesChain chain...\u001b[0m\n",
      "\n",
      "\u001b[1m> Finished chain.\u001b[0m\n",
      "Answer: To cancel your plan, you can follow the steps provided on the My Account page. If you need further assistance, you can contact support at support@strikingly.com.\n",
      "\n",
      "Sources: \n"
     ]
    }
   ],
   "source": [
    "import argparse\n",
    "import os\n",
    "\n",
    "from langchain.chat_models import ChatOpenAI\n",
    "from langchain.chains import VectorDBQAWithSourcesChain\n",
    "from langchain.vectorstores import FAISS\n",
    "from langchain.embeddings import OpenAIEmbeddings\n",
    "\n",
    "embeddings = OpenAIEmbeddings(openai_api_base=api_base,openai_api_key=api_key)\n",
    "parser = argparse.ArgumentParser(description='Paepper.com Q&A')\n",
    "parser.add_argument('question', type=str, help='Your question for Paepper.com')\n",
    "args = parser.parse_args([\"I want to cancel my plan, how do I do that?\"])\n",
    "\n",
    "store=FAISS.load_local(\"faiss_store\",embeddings,allow_dangerous_deserialization=True)\n",
    "\n",
    "\n",
    "os.environ[\"OPENAI_API_KEY\"]=api_key\n",
    "os.environ[\"OPENAI_API_BASE\"]=api_base\n",
    "# 由于某些原因，使用OpenAI会报错，改为ChatOpenAI。来源：https://github.com/langchain-ai/langchain/issues/1643\n",
    "llm=ChatOpenAI(model_name='gpt-3.5-turbo',temperature=0, verbose=True,openai_api_base=api_base,openai_api_key=api_key)\n",
    "chain = VectorDBQAWithSourcesChain.from_llm(\n",
    "        llm=llm, vectorstore=store, verbose=True)\n",
    "result = chain({\"question\": args.question})\n",
    "\n",
    "print(f\"Answer: {result['answer']}\")\n",
    "print(f\"Sources: {result['sources']}\")\n"
   ]
  },
  {
   "cell_type": "markdown",
   "metadata": {},
   "source": [
    "结果"
   ]
  },
  {
   "cell_type": "markdown",
   "metadata": {},
   "source": [
    "# Task 2"
   ]
  },
  {
   "cell_type": "code",
   "execution_count": 20,
   "metadata": {},
   "outputs": [],
   "source": [
    "from langchain.chains import ConversationalRetrievalChain\n",
    "from langchain.chat_models import ChatOpenAI\n",
    "from langchain.memory import ConversationBufferMemory\n",
    "\n",
    "memory = ConversationBufferMemory(memory_key=\"chat_history\", return_messages=True)\n",
    "\n",
    "llm=ChatOpenAI(model_name='gpt-3.5-turbo',temperature=0, verbose=True,openai_api_base=api_base,openai_api_key=api_key)\n",
    "# 返回source documents设置return_source_documents为True就行了\n",
    "qa = ConversationalRetrievalChain.from_llm(llm, store.as_retriever(),return_source_documents=True)\n",
    "query = \"I want to cancel my plan, how do I do that?\"\n",
    "# 不需要chat_history直接设置为空列表就行了\n",
    "result = qa({\"question\": query,\"chat_history\": []})\n",
    "print(result['answer'])\n",
    "print(\"Source:\\n\",result['source_documents'][0].metadata['source'])"
   ]
  },
  {
   "cell_type": "code",
   "execution_count": 21,
   "metadata": {},
   "outputs": [
    {
     "name": "stdout",
     "output_type": "stream",
     "text": [
      "To cancel your plan, follow these steps:\n",
      "\n",
      "1. Go to your \"My Account\" page.\n",
      "2. Click on \"Cancel Plan.\"\n",
      "3. Confirm the cancellation by clicking the \"Confirm Cancel Plan\" button.\n",
      "4. Follow the cancellation prompts on the subsequent pages.\n",
      "\n",
      "Please note that if there’s no cancellation before the next billing date, the system will automatically charge your account for the plan renewal. If you need more assistance or have any issues, you can email us at support@strikingly.com or chat with us for further help.\n",
      "Source:\n",
      " https://strikingly.zendesk.com/api/v2/help_center/en-us/articles/215047057.json\n"
     ]
    }
   ],
   "source": []
  }
 ],
 "metadata": {
  "kernelspec": {
   "display_name": "uwa",
   "language": "python",
   "name": "python3"
  },
  "language_info": {
   "codemirror_mode": {
    "name": "ipython",
    "version": 3
   },
   "file_extension": ".py",
   "mimetype": "text/x-python",
   "name": "python",
   "nbconvert_exporter": "python",
   "pygments_lexer": "ipython3",
   "version": "3.12.3"
  }
 },
 "nbformat": 4,
 "nbformat_minor": 2
}
